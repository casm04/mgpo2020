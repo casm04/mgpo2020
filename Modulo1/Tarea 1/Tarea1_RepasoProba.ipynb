{
 "cells": [
  {
   "cell_type": "markdown",
   "metadata": {},
   "source": [
    "# Tarea 1. Repaso de teoría de probabilidad\n",
    "\n",
    "<img style=\"float: right; margin: 0px 0px 15px 15px;\" src=\"https://storage.needpix.com/rsynced_images/bayesian-2889576_1280.png\" width=\"200px\" height=\"180px\" />\n",
    "\n",
    "Esta constituye la primera tarea del curso. Las tareas están pensadas para que afiances los conocimientos vistos en clase, repases la clase y debas darle una segunda leida. Incluso revisar otro material.\n",
    "\n",
    "Esta primera tarea contiene ejercicios puramente teóricos para que repases conceptos muy básicos de teoría de probabilidad. Conforme vamos avanzando en el curso, también encontraremos ejercicios más orientados hacia la práctica.\n",
    "\n",
    "Para los ejercicios teóricos la orientación es que seas lo más explícit@ posible. Además, cuando se te pida demostrar, que tu exposición sea clara y te apoyes de la escritura matemática con $\\LaTeX$.\n",
    "\n",
    "Recuerda además que ante cualquier duda, me puedes contactar al correo esjimenezro@iteso.mx.\n",
    "\n",
    "<p style=\"text-align:right;\"> Imagen recuperada de: https://storage.needpix.com/rsynced_images/bayesian-2889576_1280.png.</p>\n",
    "\n",
    "___"
   ]
  },
  {
   "cell_type": "markdown",
   "metadata": {},
   "source": [
    "## 1. \n",
    "\n",
    "A partir de la propiedad de regla de la cadena, probar la siguiente proposición:\n",
    "\n",
    "> *Proposición.* (**Regla de la cadena**) Sean $\\alpha_1,\\dots,\\alpha_k$ eventos, con $k\\in\\mathbb{N}$. Entonces,\n",
    "> $$P(\\alpha_1\\cap\\dots\\cap\\alpha_k) = P(\\alpha_1)P(\\alpha_2|\\alpha_1)\\dots P(\\alpha_k|\\alpha_1, \\dots, \\alpha_{k-1}).$$"
   ]
  },
  {
   "cell_type": "markdown",
   "metadata": {},
   "source": [
    "> *Tenemos que si hay una proposición para dos eventos aleatorios:* $$P(A \\cap B) = P(A) \\cdot P(B|A).$$\n",
    "> *Para más de dos eventos tenemos que, si:* $$ A_1,A_2, \\dots\\ A_n \\text{ y } P(A_1 \\cap\\dots\\cap\\ A_{n-1}) > 0.$$\n",
    "> *Proposición para n = 4 eventos aleatorios:* $$ B = A_1,A_2, \\dots\\ A_{n-1} \\text{ y } P(B) = P(A_1) \\cdot P(A_{2}|A_{1}) \\dots P(A_{n-1}|A_1 \\cap\\dots\\cap\\ A_{n-2}).$$\n",
    "> *Entonces* $$P(A_1 \\cap A_2 \\cap A_3 \\cap A_4) = P(A_1 \\cap A_2 \\cap A_3) \\cdot P(A_4|A_1 \\cap A_2 \\cap A_3) \\\\= P(A_1 \\cap A_2) \\cdot P(A_3|A_1 \\cap A_2) \\cdot P(A_4|A_1 \\cap A_2 \\cap A_3) \\\\= P(A_1) \\cdot P(A_2|A_1) \\cdot P(A_3|A_1 \\cap A_2) \\cdot P(A_4|A_1 \\cap A_2 \\cap A_3).$$\n",
    "> Por lo tanto de manera general tenemos, $$P(A_1 \\cap\\dots\\cap\\ A_{n}) = P(A_1)P(A_2|A_1)P(A_3|A_1 \\cap A_2) \\dots P(A_n|A_1 \\cap\\dots\\cap A_{n-1}).$$"
   ]
  },
  {
   "cell_type": "markdown",
   "metadata": {},
   "source": []
  },
  {
   "cell_type": "markdown",
   "metadata": {},
   "source": []
  },
  {
   "cell_type": "markdown",
   "metadata": {},
   "source": [
    "## 2. \n",
    "\n",
    "A partir de la definición de independencia condicional, probar la siguiente proposición:\n",
    "\n",
    "> *Proposición.* $P$ satisface $(\\alpha \\perp \\beta | \\gamma)$ si y solo si $P(\\alpha \\cap \\beta | \\gamma) = P(\\alpha | \\gamma) P(\\beta | \\gamma).$"
   ]
  },
  {
   "cell_type": "markdown",
   "metadata": {},
   "source": [
    "> *Definición.* Decimos que un evento $\\alpha$ es condicionalmente independiente de $\\beta$ dado $\\gamma$ en $P$, o que $P$ satisface $(\\alpha \\perp \\beta | \\gamma)$, si $P(\\alpha|\\beta \\cap \\gamma) = P(\\alpha | \\gamma)$, o si $P(\\beta \\cap \\gamma)=0$ >\\ o que $P(\\beta | \\alpha \\cap \\gamma) = P(\\beta | \\gamma)$"
   ]
  },
  {
   "cell_type": "markdown",
   "metadata": {},
   "source": [
    "> *Si* $P(\\beta \\cap \\gamma)=0$ \\\n",
    "> $$P(\\beta \\cap \\gamma) = P(\\beta)P(\\beta| \\gamma) \\text{ entonces } P(\\beta| \\gamma)= 0.$$\n",
    "> *Esto dara que:* $$ P(\\alpha \\cap \\beta | \\gamma) =0.$$\n",
    "> *Ahora si* $P(\\beta \\cap \\gamma) \\neq 0$ \\\n",
    "$$P(\\alpha|\\beta \\cap \\gamma) = P(\\alpha | \\gamma) \\text{ y } P(\\beta | \\gamma) = \\frac{P(\\gamma | \\beta) P(\\beta)}{P(\\gamma)}$$\n",
    "> *Entonces* $$P(\\alpha \\cap \\beta | \\gamma) = P(\\alpha|\\beta \\cap \\gamma) \\frac{P(\\gamma | \\beta) P(\\beta)}{P(\\gamma)}$$\n",
    "> *Y* $$P(\\beta \\cap \\gamma) = P(\\beta) P(\\gamma|\\beta).$$\n",
    "> *Entonces* $$P(\\alpha \\cap \\beta | \\gamma) = P(\\alpha|\\beta \\cap \\gamma) \\frac{P(\\beta \\cap \\gamma)}{P(\\gamma)}$$\n",
    "> *Donde* $$P(\\gamma) > 0 \\therefore P(\\beta \\cap \\gamma) \\neq 0 \\text{ y } P(\\alpha|\\beta \\cap \\gamma) \\neq 0$$"
   ]
  },
  {
   "cell_type": "markdown",
   "metadata": {},
   "source": []
  },
  {
   "cell_type": "markdown",
   "metadata": {},
   "source": [
    "## 3.\n",
    "A partir de la definición de distribución de probabilidad, probar la siguiente proposición:\n",
    "\n",
    "> *Proposición.* Para cualquier distribución de probabilidad $P$ sobre $(\\Omega, \\mathcal{S})$, y cualquier par de eventos $\\alpha, \\beta \\in \\mathcal{S}$ se cumple que, si $\\alpha \\subset \\beta$ entonces $P(\\alpha) \\leq P (\\beta)$."
   ]
  },
  {
   "cell_type": "markdown",
   "metadata": {},
   "source": [
    "> Usando la definición de probabilidad que dice:\\\n",
    "> Una **distribución de probabilidad** $P$ sobre $(\\Omega, \\mathcal{S})$ es una función del espacio de eventos en los números reales $P:\\mathcal{S} \\to \\mathbb{R}$ tal que: \\\n",
    ">a) $P(\\alpha) \\geq 0$, para todo $\\alpha \\in \\mathcal{S}$;\\\n",
    ">b) $P(\\Omega) = 1$; y\\\n",
    ">c) Si $\\alpha, \\beta \\in \\mathcal{S}$ y $\\alpha \\cap \\beta = \\emptyset$, entonces $P(\\alpha \\cup \\beta) = P(\\alpha) + P(\\beta)$."
   ]
  },
  {
   "cell_type": "markdown",
   "metadata": {},
   "source": [
    "> Para a): \\\n",
    "$$ \\text{Si decimos que } \\beta \\in \\mathcal{S} \\text{ y } P(\\beta) \\geq 0, \\text{ sabemos que } \\alpha \\subset \\beta \\text{ entonces } \\alpha \\in \\mathcal{S} \\text{ por lo tanto } P(\\alpha) \\geq 0.$$\n",
    "> Para b): \n",
    "$$ \\text{ Como } P(\\Omega) = 1 \\text{; Si } \\alpha \\in \\mathcal{S} \\Rightarrow \\beta \\in \\mathcal{S} \\text{ dado que } \\alpha \\subset \\beta \\text{ entonces } (\\Omega - \\alpha) \\in \\mathcal{S} \\Rightarrow (\\Omega - \\beta) \\in \\mathcal{S}$$\n",
    "> Para c):\n",
    "$$ \\text{Dado que } \\alpha, \\beta \\in \\mathcal{S} \\text{ y } \\alpha \\cap \\beta = \\emptyset \\text{, entonces } P(\\alpha \\cup \\beta) = P(\\alpha) + P(\\beta)$$\n",
    "$$\\text{Si } \\alpha \\subset \\beta \\text{, la } P(\\alpha \\cup \\beta) \\text{ tiene estas opciones:}$$\n",
    "$$\\text{1.- } P(\\alpha) = P(\\beta) \\Rightarrow P(\\alpha \\cup \\beta) = P(\\beta)$$\n",
    "$$\\text{2.- }P(\\alpha) < P(\\beta) \\Rightarrow P(\\alpha \\cup \\beta) = P(\\alpha)$$"
   ]
  },
  {
   "cell_type": "markdown",
   "metadata": {},
   "source": []
  },
  {
   "cell_type": "markdown",
   "metadata": {},
   "source": [
    "## 4.\n",
    "\n",
    "Considere dos eventos $\\alpha, \\beta$ tales que $P(\\alpha) = p_a$ y $P(\\beta) = p_b$.\n",
    "\n",
    "1. Calcule los valores máximo y mínimo que puede alcanzar $P(\\alpha \\cup \\beta)$.\n",
    "   - ¿En qué situaciones se alcanzan esos valores extremos?\n",
    "   \n",
    "2. Calcule los valores máximo y mínimo que puede alcanzar $P(\\alpha \\cap \\beta)$.\n",
    "   - ¿En qué situaciones se alcanzan esos valores extremos?"
   ]
  },
  {
   "cell_type": "markdown",
   "metadata": {},
   "source": []
  },
  {
   "cell_type": "markdown",
   "metadata": {},
   "source": [
    "> *1. La respuesta sería:* \n",
    "> - $P(\\Omega) - P(\\alpha \\cup \\beta) = 0$, $P(\\alpha \\cup \\beta)$ alcanzara el valor Máximo\n",
    "> - $P(\\Omega) - P(\\alpha \\cup \\beta) = 1$, $P(\\alpha \\cup \\beta)$ alcanzara el valor Mínimo"
   ]
  },
  {
   "cell_type": "markdown",
   "metadata": {},
   "source": [
    "> *2. La respuesta sería:* \n",
    "> - $P(\\alpha) = P(\\beta) = 1$ Máximo\n",
    "> - $P(\\alpha) = P(\\beta) = 0$ Mínimo"
   ]
  },
  {
   "cell_type": "markdown",
   "metadata": {},
   "source": [
    "## 5.\n",
    "\n",
    "Supongamos que una prueba para la COVID-19 tiene una precisión del 95%. Esto es, si el paciente está infectado, entonces el resultado de la prueba será positivo con probabilidad de 0.95, y si el paciente NO está infectado, el resutado de la prueba será negativo con probabilidad de 0.95.\n",
    "\n",
    "Ahora, suponga que una persona tuvo un resultado de prueba positivo.\n",
    "\n",
    "1. ¿Cuál es la probabilidad de que esta persona esté infectada en efecto?\n",
    "\n",
    "2. ¿Cuál es la probabilidad de que no esté infectada?"
   ]
  },
  {
   "cell_type": "markdown",
   "metadata": {},
   "source": []
  },
  {
   "cell_type": "markdown",
   "metadata": {},
   "source": []
  },
  {
   "cell_type": "code",
   "execution_count": 101,
   "metadata": {},
   "outputs": [
    {
     "data": {
      "image/png": "[encoded data removed]",
      "text/plain": [
       "<IPython.core.display.Image object>"
      ]
     },
     "execution_count": 101,
     "metadata": {},
     "output_type": "execute_result"
    }
   ],
   "source": [
    "# coding:utf-8\n",
    "from IPython.display import Image\n",
    "# ![title](C:\\Users\\cesarasa\\Documents\\CASM stuff\\Maestria Ciencia de Datos ITESO\\Otono2020\\MODELOS GRAFICOS PROBABILISTICOS\\Clase 1)\n",
    "Image(r'C:\\Users\\cesarasa\\Documents\\CASM stuff\\Maestria Ciencia de Datos ITESO\\Otono2020\\MODELOS GRAFICOS PROBABILISTICOS\\Clase 1\\diagrama_probabilidad_contagios.png')"
   ]
  },
  {
   "cell_type": "markdown",
   "metadata": {},
   "source": [
    "Del diagrama anterior podemos obener que:\n",
    "\n",
    "1.- Probabilidad de que una persona **SI** esté infectada: \n",
    "\n",
    "$$ 0.95*0.95 + 0.05*0.05 = 0.905 $$\n",
    "\n",
    "2.- Probabilidad de que una persona **NO** esté infectada: \n",
    "\n",
    "$$ 0.95*0.05 + 0.05*0.95 = 0.095 $$"
   ]
  },
  {
   "cell_type": "markdown",
   "metadata": {},
   "source": [
    "# 6.\n",
    "\n",
    "A partir de la definición de independencia condicional en VA, pruebe cada una de las siguientes proposiciones:\n",
    "\n",
    "1. **Simetría**\n",
    "   $$(\\bar{X} \\perp \\bar{Y} | \\bar{Z}) \\Rightarrow (\\bar{Y} \\perp \\bar{X} | \\bar{Z}).$$\n",
    "   \n",
    "2. **Descomposición**\n",
    "   $$(\\bar{X} \\perp \\bar{Y}, \\bar{W} | \\bar{Z}) \\Rightarrow (\\bar{X} \\perp \\bar{Y} | \\bar{Z}).$$\n",
    "   \n",
    "3. **Unión débil**\n",
    "   $$(\\bar{X} \\perp \\bar{Y}, \\bar{W} | \\bar{Z}) \\Rightarrow (\\bar{X} \\perp \\bar{Y} | \\bar{Z}, \\bar{W}).$$\n",
    "   \n",
    "4. **Contracción**\n",
    "   $$(\\bar{X} \\perp \\bar{W} | \\bar{Z}, \\bar{Y}) \\& (\\bar{X} \\perp \\bar{Y} | \\bar{Z}) \\Rightarrow (\\bar{X} \\perp \\bar{Y}, \\bar{W} | \\bar{Z}).$$"
   ]
  },
  {
   "cell_type": "markdown",
   "metadata": {},
   "source": [
    "> *Definición.* Sean $\\bar{X}$, $\\bar{Y}$ y $\\bar{Z}$ conjuntos de VA. Decimos que $\\bar{X}$ es condicionalmente independiente de $\\bar{Y}$ dado $\\bar{Z}$ en un distribución $P$, si $P$ satisface $(\\bar{X} = \\bar{x} \\perp \\bar{Y} = \\bar{y} | \\bar{Z} = \\bar{z})$ para todo $\\bar{x}\\in\\mathrm{Val}(\\bar{X})$, $\\bar{y}\\in\\mathrm{Val}(\\bar{Y})$ y $\\bar{z}\\in\\mathrm{Val}(\\bar{Z})$.\n",
    ">\n",
    "> Las variables en el conjunto $\\bar{Z}$ se dice que son observadas.\n",
    "> *Proposición.* $P$ satisface $(\\bar{X} \\perp \\bar{Y} | \\bar{Z})$ si y solo si $P(\\bar{X}, \\bar{Y} | \\bar{Z}) = P(\\bar{X} | \\bar{Z}) P(\\bar{Y} | \\bar{Z}).$"
   ]
  },
  {
   "cell_type": "markdown",
   "metadata": {},
   "source": [
    "1. **Simetría** \\\n",
    "   $(\\bar{X} \\perp \\bar{Y} | \\bar{Z}) \\Rightarrow (\\bar{Y} \\perp \\bar{X} | \\bar{Z}).$ \\\n",
    "   Si $P$ satisface $(\\bar{X} = \\bar{x} \\perp \\bar{Y} = \\bar{y} | \\bar{Z} = \\bar{z})$ para todo $\\bar{x}\\in\\mathrm{Val}(\\bar{X})$, $\\bar{y}\\in\\mathrm{Val}(\\bar{Y})$ y $\\bar{z}\\in\\mathrm{Val}(\\bar{Z})$.\\\n",
    "   Entonces $P$ satisface $(\\bar{Y} = \\bar{y} \\perp \\bar{X} = \\bar{x} | \\bar{Z} = \\bar{z})$ para todo $\\bar{y}\\in\\mathrm{Val}(\\bar{Y})$, $\\bar{x}\\in\\mathrm{Val}(\\bar{X})$ y $\\bar{z}\\in\\mathrm{Val}(\\bar{Z})$ \\\n",
    "$P$ satisface $(\\bar{X} \\perp \\bar{Y} | \\bar{Z})$ si y solo si $P(\\bar{X}, \\bar{Y} | \\bar{Z}) = P(\\bar{X} | \\bar{Z}) P(\\bar{Y} | \\bar{Z}).$ \\\n",
    "   y\\\n",
    "$P$ satisface $(\\bar{Y} \\perp \\bar{X} | \\bar{Z})$ si y solo si $P(\\bar{Y}, \\bar{X} | \\bar{Z}) = P(\\bar{Y} | \\bar{Z}) P(\\bar{X} | \\bar{Z}).$ \\\n",
    "*Por lo tanto son simetricas* $\\bar{X} \\perp \\bar{Y} \\Rightarrow \\bar{Y} \\perp \\bar{X}.$\\\n",
    "\n",
    "2. **Descomposición** \\\n",
    "$(\\bar{X} \\perp \\bar{Y}, \\bar{W} | \\bar{Z}) \\Rightarrow (\\bar{X} \\perp \\bar{Y} | \\bar{Z}).$ \\\n",
    "Tenemos que: \\\n",
    "$\\bar{X} \\perp \\bar{Y}, \\bar{W} | \\bar{Z} \\Rightarrow \\left\\{ \\begin{array}{lr} \\bar{X} \\perp \\bar{Y} \\\\ \\bar{X} \\perp \\bar{W} | \\bar{Z}\\end{array}\\right.$ \\\n",
    "Entonces: \\\n",
    "$P(\\bar{X}, \\bar{Y}) = P(\\bar{X}) P(\\bar{Y})$ \\\n",
    "y \\\n",
    "$P(\\bar{X}, \\bar{W} | \\bar{Z}) = P(\\bar{X}) P(\\bar{W} | \\bar{Z})$\\\n",
    "   \n",
    "3. **Unión débil** \\\n",
    "$(\\bar{X} \\perp \\bar{Y}, \\bar{W} | \\bar{Z}) \\Rightarrow (\\bar{X} \\perp \\bar{Y} | \\bar{Z}, \\bar{W}).$\\\n",
    "$\\bar{X} \\perp \\bar{Y}, \\bar{W} | \\bar{Z} \\Rightarrow \\left\\{ \\begin{array}{lr} \\bar{X} \\perp \\bar{Y} | \\bar{Z} \\\\ \\bar{X} \\perp \\bar{W} | \\bar{Z} \\end{array}\\right.$ \\\n",
    "Por definición $P(\\bar{X}) = P(\\bar{X} | \\bar{Y}, \\bar{W} | \\bar{Z})$ \\\n",
    "Descomposición: $\\bar{X} \\perp \\bar{W} | \\bar{Z}$, $P(\\bar{X}) = P(\\bar{W} | \\bar{Z})$ \\\n",
    "Entonces $P(\\bar{X} | \\bar{W} | \\bar{Z}) = P(\\bar{X} | \\bar{Y}, \\bar{W} | \\bar{Z}) \\perp \\bar{Y} | (\\bar{W} | \\bar{Z})$ \\\n",
    "\n",
    "4. **Contracción** \\\n",
    "$(\\bar{X} \\perp \\bar{W} | \\bar{Z}, \\bar{Y}) \\& (\\bar{X} \\perp \\bar{Y} | \\bar{Z}) \\Rightarrow (\\bar{X} \\perp \\bar{Y}, \\bar{W} | \\bar{Z}).$ \\\n",
    "$\\right\\{ \\begin{array}{lr} \\bar{X} \\perp \\bar{Y} | \\bar{Z} \\\\ \\bar{X} \\perp \\bar{W} | \\bar{Z} \\end{array}\\left.$ \\\n",
    "**Falto poner el corchete derecho, no encontrado en latex como ponerlo bien**"
   ]
  },
  {
   "cell_type": "markdown",
   "metadata": {},
   "source": []
  },
  {
   "cell_type": "markdown",
   "metadata": {},
   "source": [
    "# 7.\n",
    "\n",
    "En clase no vimos conceptos importantes de las para describir VA, como lo son el **valor esperado** y **varianza**. Sin embargo, creo que todos están a tono con estos conceptos. Para no dejarlo al aire:\n",
    "\n",
    "> *Definición.* Sea $X$ una VA discreta que toma valores numéricos. El **valor esperado** de la VA $X$ bajo la distribución $P$ es\n",
    "> \n",
    "> $$E_P[X] = \\sum_{x} x P(X=x).$$\n",
    ">\n",
    "> La **varianza** de la VA $X$ bajo la distribución $P$ es\n",
    ">\n",
    "> $$Var_P[X] = E_P[(X - E_P[X])^2] = E_P[X^2] - (E_P[X])^2.$$"
   ]
  },
  {
   "cell_type": "markdown",
   "metadata": {},
   "source": [
    "Es común que haya cierta confusión en el significado del valor esperado. Un significado que le podemos dar a este valor, viene dado por la [ley de los grandes números](https://www.khanacademy.org/math/statistics-probability/random-variables-stats-library/expected-value-lib/v/law-of-large-numbers)."
   ]
  },
  {
   "cell_type": "markdown",
   "metadata": {},
   "source": [
    "Para convencerte de esto, en este ejercicio simularás la tirada de un dado justo:\n",
    "\n",
    "1. Definimos la VA $X$ como el valor que muestra el dado cuando cae, es decir $\\mathrm{Val}(X) = \\{1, 2, 3, 4, 5, 6\\}$.\n",
    "2. Como el dado es justo $P(X=i)=\\frac{1}{|\\mathrm{Val}(X)|}=\\frac{1}{6}$ para todo $i=1,\\dots,6$.\n",
    "\n",
    "¿Cuál es el valor esperado $E[X]$?"
   ]
  },
  {
   "cell_type": "markdown",
   "metadata": {},
   "source": [
    "$\\mathrm{Val}(X) = \\{1, 2, 3, 4, 5, 6\\}$ \\\n",
    "$P(X=i)=\\frac{1}{|\\mathrm{Val}(X)|}=\\frac{1}{6}$ para todo $i=1,\\dots,6$ \\\n",
    "$P(X=i)=\\frac{1}{|\\mathrm{Val}(X)|}=1 \\cdot \\frac{1}{6} + 2 \\cdot \\frac{1}{6}+ 3 \\cdot \\frac{1}{6}+ 4 \\cdot \\frac{1}{6}+ 5 \\cdot \\frac{1}{6} + 6 \\cdot \\frac{1}{6}=3.5$"
   ]
  },
  {
   "cell_type": "code",
   "execution_count": 9,
   "metadata": {},
   "outputs": [
    {
     "name": "stdout",
     "output_type": "stream",
     "text": [
      "Es igual a 3.5\n"
     ]
    }
   ],
   "source": [
    "# Calcular el valor esperado teórico de la VA X\n",
    "print('Es igual a {0}'.format(3.5))"
   ]
  },
  {
   "cell_type": "markdown",
   "metadata": {},
   "source": [
    "Ahora, viene el paso de simulación. \n",
    "\n",
    "1. Vas a simular por lo menos 1000 veces la tirada del dado, guardando a cada tirada el resultado obtenido.\n",
    "\n",
    "2. Vas a calcular el valor promedio de los resultados *a cada tirada*. Es decir, si los resultados en las primeras $n$ tiradas son $x_1,\\dots,x_n$, el valor promedio en la tirada $n$ es\n",
    "\n",
    "   $$\\bar{x}_n = \\frac{x_1+\\dots+x_n}{n}.$$\n",
    "\n",
    "3. Finalmente, vas a graficar los valores promedio obtenidos a cada tirada (en el eje $y$) vs. el número de tiradas (en el eje $x$). Incluir el valor esperado teórico en la gráfica. ¿Qué observas?\n",
    "\n",
    "*Ayuda: apoyarse del modulo random de numpy. Para su nivel, espero que no incluyan ni un solo ciclo en su código.*"
   ]
  },
  {
   "cell_type": "code",
   "execution_count": 11,
   "metadata": {},
   "outputs": [
    {
     "name": "stdout",
     "output_type": "stream",
     "text": [
      "Para n = 100, promedio = 3.21\n",
      "Para n = 1000, promedio = 3.466\n"
     ]
    }
   ],
   "source": [
    "# Parte 1 y 2\n",
    "import numpy as np\n",
    "# n = número de intentos\n",
    "n = 100\n",
    "tiradas = np.random.randint(1,7,n)\n",
    "print('Para n = {0}, promedio = {1}'.format(n,sum(tiradas)/n))\n",
    "n = 1000\n",
    "tiradas = np.random.randint(1,7,n)\n",
    "print('Para n = {0}, promedio = {1}'.format(n,sum(tiradas)/n))"
   ]
  },
  {
   "cell_type": "code",
   "execution_count": 105,
   "metadata": {},
   "outputs": [],
   "source": [
    "# Parte 3.1\n",
    "# test with loop\n",
    "# mean_lst = []\n",
    "# for i in range(1,tiradas.shape[0]+1):\n",
    "#     mean_lst.append(tiradas[0:i].mean())\n",
    "# mean_lst[990:]\n",
    "def means_lst_gen(start,list_,l):\n",
    "    \"\"\"\n",
    "    Recursive function thar calculates de mean based on the sum of N tries of the dice over the N tries\n",
    "    return: l that is the list of the N quantity of means\n",
    "    \"\"\"\n",
    "    if start==len(list_)+1:\n",
    "        return l\n",
    "    else:\n",
    "        l.append(list_[0:start].mean())\n",
    "        means_lst_gen(start+1,list_,l)\n",
    "        return l\n",
    "mean_lst = []\n",
    "mean_lst = means_lst_gen(1,tiradas,mean_lst)\n",
    "# mean_lst[990:]"
   ]
  },
  {
   "cell_type": "code",
   "execution_count": 100,
   "metadata": {},
   "outputs": [
    {
     "data": {
      "image/png": "[encoded data removed]",
      "text/plain": [
       "<Figure size 1152x576 with 1 Axes>"
      ]
     },
     "metadata": {
      "needs_background": "light"
     },
     "output_type": "display_data"
    }
   ],
   "source": [
    "# Parte 3.2\n",
    "import matplotlib.pyplot as plt\n",
    "plt.figure(figsize=(16, 8))\n",
    "plt.rcParams['font.size'] = 12\n",
    "# my_colors = 'rgbymc' \n",
    "y_3p5 = np.full((n,1),3.5)\n",
    "plt.scatter(range(n), mean_lst, c='b', marker='o', alpha=0.3, label='Media simulada por cada n tiro')\n",
    "plt.plot(range(n), y_3p5, c='orange', linewidth=5, linestyle='--', label='Media teórica  = 3.5')\n",
    "plt.grid(c='grey',which='both')\n",
    "plt.title('Esperanza tiros de dado teórico vs simulado')\n",
    "plt.xticks(np.arange(0, 1001, 50))\n",
    "plt.yticks(np.arange(0, 6, 1))\n",
    "#plt.xlabel('N')\n",
    "#plt.ylabel('Valor')\n",
    "plt.legend()\n",
    "plt.show(block=False)"
   ]
  },
  {
   "cell_type": "markdown",
   "metadata": {},
   "source": [
    "**¡Observación!** \\\n",
    "$P(X=i)=\\frac{1}{|\\mathrm{Val}(X)|}=3.5$ \\\n",
    "*En la gráfica se observa como al aumentar el número de tiros la media de los tiros se acerca al valor teórico calculado, desde el valor 120 en adelante no hay tanta variacion con la media*"
   ]
  },
  {
   "cell_type": "code",
   "execution_count": null,
   "metadata": {},
   "outputs": [],
   "source": []
  }
 ],
 "metadata": {
  "kernelspec": {
   "display_name": "Python 3",
   "language": "python",
   "name": "python3"
  },
  "language_info": {
   "codemirror_mode": {
    "name": "ipython",
    "version": 3
   },
   "file_extension": ".py",
   "mimetype": "text/x-python",
   "name": "python",
   "nbconvert_exporter": "python",
   "pygments_lexer": "ipython3",
   "version": "3.7.4"
  }
 },
 "nbformat": 4,
 "nbformat_minor": 4
}
